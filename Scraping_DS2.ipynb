{
 "cells": [
  {
   "cell_type": "markdown",
   "metadata": {},
   "source": [
    "# Scraping of data from another data source\n"
   ]
  },
  {
   "cell_type": "code",
   "execution_count": null,
   "metadata": {},
   "outputs": [],
   "source": [
    "#Build in libraries for request, Beautiful Soup and Dataframe\n",
    "from urllib.request import urlopen as uReq\n",
    "from bs4 import BeautifulSoup as soup\n",
    "import requests  \n",
    "import pandas as pd\n",
    "\n",
    "#CSV file to store the scraped data form another datasource\n",
    "filename = \"CityScraping.csv\"\n",
    "f = open(filename, \"w\")\n",
    "\n",
    "#Headers for the scraped data in CSV file\n",
    "headers = \"City, State, NameOFRace, NumberOfpeople, PercentOfPeople\\n\"\n",
    "\n",
    "#writing headers to file\n",
    "f.write(headers)\n",
    "#f.close()"
   ]
  },
  {
   "cell_type": "code",
   "execution_count": null,
   "metadata": {},
   "outputs": [],
   "source": [
    "#Opening CSV file in Append mode\n",
    "f = open(filename, \"a\")"
   ]
  },
  {
   "cell_type": "code",
   "execution_count": null,
   "metadata": {},
   "outputs": [],
   "source": [
    "#importing libraries pandas for storage and time for easier interation of generated links \n",
    "import pandas as pd\n",
    "import time\n",
    "\n",
    "#reading the previously generated CSV for access of data of city and states\n",
    "Csv =pd.read_csv('statesWiki.csv') \n",
    "#Csv.head(400)\n",
    "#f = open(filename, \"w\")\n",
    "\n",
    "#loop for generation of dynaminc links by the name of city and states from previously generated CSV \n",
    "for row in Csv.head(400).itertuples():\n",
    "    #excetion handling\n",
    "    try :\n",
    "        #print(row.City)\n",
    "        city = row.City.replace(\" \",\"-\").replace(\",\",\"\")\n",
    "        #print(row.State)\n",
    "        state = row.State.replace(\" \",\"-\").replace(\",\",\"\")\n",
    "        #print(state)\n",
    "        \n",
    "        #Generation of dynamic links\n",
    "        final_var = \"http://www.city-data.com/city/\"+city+\"-\"+state+\".html\"\n",
    "        #print (final_var)\n",
    "        \n",
    "        time.sleep(8)\n",
    "        \n",
    "        #Providing the URL from which web scraping will be done\n",
    "        response =  requests.get(final_var)\n",
    "        page_soup = soup(response.text, \"html.parser\")\n",
    "\n",
    "        #scraping of data according to the HTML tag\n",
    "        table = page_soup.findAll(\"li\",{\"class\":\"list-group-item col-md-3\"})\n",
    "  \n",
    "        Place = page_soup.find(\"h1\",{\"class\":\"city\"})\n",
    "        placeText=Place.text\n",
    "        City,State = placeText.split(', ', 1)\n",
    "        #print(City)\n",
    "        #print(State)\n",
    "\n",
    "        #scraping of data from list\n",
    "        for i in range (len(table)):\n",
    "            tds = table[i].findAll(\"li\",{\"class\":\"list-group-item\"})\n",
    "            #print (tds)\n",
    "            for j in range (len(tds)):\n",
    "\n",
    "                NumberOfpeople = tds[j].find(\"span\",{\"class\":\"badge\"})\n",
    "                no = NumberOfpeople.text\n",
    "                #print(no)\n",
    "\n",
    "                PercentOfPeople = tds[j].find(\"span\",{\"class\":\"badge alert-info\"})\n",
    "                pp = PercentOfPeople.text\n",
    "                #print  (PercentOfPeople.text)\n",
    "\n",
    "                NameOFRace = tds[j].b\n",
    "                nr = NameOFRace.text\n",
    "                #print (NameOFRace.text)\n",
    "                \n",
    "                #writing data in CSV file\n",
    "                f.write((State) + \",\" + (City)+\",\"+ (nr) + \",\" + (no).replace(\",\",\"\") + \",\" + (pp) + \"\\n\")\n",
    "\n",
    "    except:\n",
    "        print(\"\")\n",
    "   \n"
   ]
  },
  {
   "cell_type": "code",
   "execution_count": null,
   "metadata": {},
   "outputs": [],
   "source": [
    "#closing the file\n",
    "f.close()"
   ]
  }
 ],
 "metadata": {
  "kernelspec": {
   "display_name": "Python 3",
   "language": "python",
   "name": "python3"
  },
  "language_info": {
   "codemirror_mode": {
    "name": "ipython",
    "version": 3
   },
   "file_extension": ".py",
   "mimetype": "text/x-python",
   "name": "python",
   "nbconvert_exporter": "python",
   "pygments_lexer": "ipython3",
   "version": "3.7.1"
  }
 },
 "nbformat": 4,
 "nbformat_minor": 2
}
